{
 "cells": [
  {
   "attachments": {},
   "cell_type": "markdown",
   "metadata": {},
   "source": [
    "<h2>Задание 1</h2>\n",
    "Найдите номер модели, скорость и размер жесткого диска для всех ПК стоимостью менее 500 дол. Вывести: model, speed и hd"
   ]
  },
  {
   "cell_type": "code",
   "execution_count": 2,
   "metadata": {},
   "outputs": [],
   "source": [
    "sql = '''\n",
    "SELECT model, speed, hd\n",
    "FROM PC\n",
    "WHERE price < 500'''"
   ]
  },
  {
   "attachments": {},
   "cell_type": "markdown",
   "metadata": {},
   "source": [
    "<h2>Задание 2</h2>\n",
    "Найдите производителей принтеров. Вывести: maker"
   ]
  },
  {
   "cell_type": "code",
   "execution_count": 3,
   "metadata": {},
   "outputs": [],
   "source": [
    "sql = '''\n",
    "SELECT DISTINCT maker\n",
    "FROM Product\n",
    "WHERE type LIKE 'Printer'\n",
    "'''"
   ]
  },
  {
   "attachments": {},
   "cell_type": "markdown",
   "metadata": {},
   "source": [
    "<h2>Задание 3</h2>\n",
    "Найдите номер модели, объем памяти и размеры экранов ПК-блокнотов, цена которых превышает 1000 дол."
   ]
  },
  {
   "cell_type": "code",
   "execution_count": 4,
   "metadata": {},
   "outputs": [],
   "source": [
    "sql = '''\n",
    "SELECT model, ram, screen\n",
    "FROM Laptop\n",
    "WHERE price > 1000\n",
    "'''"
   ]
  },
  {
   "attachments": {},
   "cell_type": "markdown",
   "metadata": {},
   "source": [
    "<h2>Задание 4</h2>\n",
    "Найдите все записи таблицы Printer для цветных принтеров."
   ]
  },
  {
   "cell_type": "code",
   "execution_count": 5,
   "metadata": {},
   "outputs": [],
   "source": [
    "sql = '''\n",
    "SELECT *\n",
    "FROM Printer\n",
    "WHERE color LIKE 'y'\n",
    "'''"
   ]
  },
  {
   "attachments": {},
   "cell_type": "markdown",
   "metadata": {},
   "source": [
    "<h2>Задание 5</h2>\n",
    "Найдите номер модели, скорость и размер жесткого диска ПК, имеющих 12x или 24x CD и цену менее 600 дол."
   ]
  },
  {
   "cell_type": "code",
   "execution_count": 6,
   "metadata": {},
   "outputs": [],
   "source": [
    "sql = '''\n",
    "SELECT model, speed, hd\n",
    "FROM PC\n",
    "WHERE cd IN ('12x', '24x') AND price < 600\n",
    "'''"
   ]
  },
  {
   "attachments": {},
   "cell_type": "markdown",
   "metadata": {},
   "source": [
    "<h2>Задание 6</h2>\n",
    "Для каждого производителя, выпускающего ПК-блокноты c объёмом жесткого диска не менее 10 Гбайт, найти скорости таких ПК-блокнотов. Вывод: производитель, скорость."
   ]
  },
  {
   "cell_type": "code",
   "execution_count": 7,
   "metadata": {},
   "outputs": [],
   "source": [
    "sql = '''\n",
    "SELECT DISTINCT Product.maker, Laptop.speed\n",
    "FROM Product\n",
    "     INNER JOIN Laptop ON Laptop.model = Product.model\n",
    "WHERE Product.model IN (SELECT model FROM Laptop) AND Laptop.hd >= 10\n",
    "'''"
   ]
  },
  {
   "attachments": {},
   "cell_type": "markdown",
   "metadata": {},
   "source": [
    "<h2>Задание 7</h2>\n",
    "Найдите номера моделей и цены всех имеющихся в продаже продуктов (любого типа) производителя B (латинская буква)."
   ]
  },
  {
   "cell_type": "code",
   "execution_count": 8,
   "metadata": {},
   "outputs": [],
   "source": [
    "sql = '''\n",
    "SELECT Product.model, price\n",
    "FROM Product\n",
    "     INNER JOIN PC ON PC.model = Product.model\n",
    "WHERE maker LIKE 'B%'\n",
    "UNION\n",
    "SELECT Product.model, price\n",
    "FROM Product\n",
    "     INNER JOIN Laptop ON Laptop.model = Product.model\n",
    "WHERE maker LIKE 'B%'\n",
    "UNION\n",
    "SELECT Product.model, price\n",
    "FROM Product\n",
    "     INNER JOIN Printer ON Printer.model = Product.model\n",
    "WHERE maker LIKE 'B%'\n",
    "'''"
   ]
  },
  {
   "attachments": {},
   "cell_type": "markdown",
   "metadata": {},
   "source": [
    "<h2>Задание 8</h2>\n",
    "Найдите производителя, выпускающего ПК, но не ПК-блокноты."
   ]
  },
  {
   "cell_type": "code",
   "execution_count": 9,
   "metadata": {},
   "outputs": [],
   "source": [
    "sql = '''\n",
    "SELECT DISTINCT maker\n",
    "FROM Product\n",
    "WHERE type = 'PC' AND \n",
    "      maker NOT IN (SELECT maker \n",
    "                    FROM Product \n",
    "                    WHERE type = 'Laptop'\n",
    "                    ) \n",
    "'''"
   ]
  },
  {
   "attachments": {},
   "cell_type": "markdown",
   "metadata": {},
   "source": [
    "<h2>Задание 9</h2>\n",
    "Найдите производителей ПК с процессором не менее 450 Мгц. Вывести: Maker"
   ]
  },
  {
   "cell_type": "code",
   "execution_count": 10,
   "metadata": {},
   "outputs": [],
   "source": [
    "sql = '''\n",
    "SELECT DISTINCT maker as Maker\n",
    "FROM Product p\n",
    "     INNER JOIN PC ON p.model = PC.model\n",
    "WHERE PC.speed >= 450\n",
    "'''"
   ]
  },
  {
   "attachments": {},
   "cell_type": "markdown",
   "metadata": {},
   "source": [
    "<h2>Задание 10</h2>\n",
    "Найдите модели принтеров, имеющих самую высокую цену. Вывести: model, price"
   ]
  },
  {
   "cell_type": "code",
   "execution_count": 11,
   "metadata": {},
   "outputs": [],
   "source": [
    "sql = '''\n",
    "SELECT model, price\n",
    "FROM Printer\n",
    "WHERE price IN (SELECT MAX(price) FROM Printer)\n",
    "'''"
   ]
  },
  {
   "attachments": {},
   "cell_type": "markdown",
   "metadata": {},
   "source": [
    "<h2>Задание 11</h2>\n",
    "Найдите среднюю скорость ПК."
   ]
  },
  {
   "cell_type": "code",
   "execution_count": 12,
   "metadata": {},
   "outputs": [],
   "source": [
    "sql = '''\n",
    "SELECT AVG(speed)\n",
    "FROM PC\n",
    "'''"
   ]
  },
  {
   "attachments": {},
   "cell_type": "markdown",
   "metadata": {},
   "source": [
    "<h2>Задание 12</h2>\n",
    "Найдите среднюю скорость ПК-блокнотов, цена которых превышает 1000 дол."
   ]
  },
  {
   "cell_type": "code",
   "execution_count": 13,
   "metadata": {},
   "outputs": [],
   "source": [
    "sql = '''\n",
    "SELECT AVG(speed)\n",
    "FROM Laptop\n",
    "WHERE price > 1000\n",
    "'''"
   ]
  },
  {
   "attachments": {},
   "cell_type": "markdown",
   "metadata": {},
   "source": [
    "<h2>Задание 13</h2>\n",
    "Найдите среднюю скорость ПК, выпущенных производителем A."
   ]
  },
  {
   "cell_type": "code",
   "execution_count": 14,
   "metadata": {},
   "outputs": [],
   "source": [
    "sql = '''\n",
    "SELECT AVG(speed)\n",
    "FROM PC\n",
    "WHERE model IN (SELECT model FROM Product WHERE maker='A')\n",
    "'''"
   ]
  },
  {
   "attachments": {},
   "cell_type": "markdown",
   "metadata": {},
   "source": [
    "<h2>Задание 14</h2>\n",
    "Найдите класс, имя и страну для кораблей из таблицы Ships, имеющих не менее 10 орудий."
   ]
  },
  {
   "cell_type": "code",
   "execution_count": 15,
   "metadata": {},
   "outputs": [],
   "source": [
    "sql = '''\n",
    "SELECT Ships.class, name, country\n",
    "FROM Ships\n",
    "     INNER JOIN Classes ON Classes.class = Ships.class\n",
    "WHERE Ships.class IN (SELECT class FROM Classes WHERE numGuns>=10)\n",
    "'''"
   ]
  },
  {
   "attachments": {},
   "cell_type": "markdown",
   "metadata": {},
   "source": [
    "<h2>Задание 15</h2>\n",
    "Найдите размеры жестких дисков, совпадающих у двух и более PC. Вывести: HD"
   ]
  },
  {
   "cell_type": "code",
   "execution_count": 16,
   "metadata": {},
   "outputs": [],
   "source": [
    "sql = '''\n",
    "SELECT hd\n",
    "FROM PC\n",
    "GROUP BY hd\n",
    "HAVING COUNT(hd) > 1\n",
    "'''"
   ]
  },
  {
   "attachments": {},
   "cell_type": "markdown",
   "metadata": {},
   "source": [
    "<h2>Задание 16</h2>\n",
    "Найдите пары моделей PC, имеющих одинаковые скорость и RAM. В результате каждая пара указывается только один раз, т.е. (i,j), но не (j,i), Порядок вывода: модель с большим номером, модель с меньшим номером, скорость и RAM."
   ]
  },
  {
   "cell_type": "code",
   "execution_count": 17,
   "metadata": {},
   "outputs": [],
   "source": [
    "sql = '''\n",
    "\n",
    "'''"
   ]
  },
  {
   "attachments": {},
   "cell_type": "markdown",
   "metadata": {},
   "source": [
    "<h2>Задание 17</h2>\n",
    "Найдите модели ПК-блокнотов, скорость которых меньше скорости каждого из ПК.\n",
    "Вывести: type, model, speed"
   ]
  },
  {
   "cell_type": "code",
   "execution_count": 18,
   "metadata": {},
   "outputs": [],
   "source": [
    "sql = '''\n",
    "SElECT DISTINCT Product.type, Product.model, Laptop.speed\n",
    "FROM Product\n",
    "     INNER JOIN Laptop ON Product.model = Laptop.model\n",
    "WHERE Laptop.speed < ALL(SELECT MIN(speed) FROM PC) AND Product.type LIKE 'Laptop'\n",
    "'''"
   ]
  },
  {
   "attachments": {},
   "cell_type": "markdown",
   "metadata": {},
   "source": [
    "<h2>Задание 18</h2>\n",
    "Найдите производителей самых дешевых цветных принтеров. Вывести: maker, price"
   ]
  },
  {
   "cell_type": "code",
   "execution_count": 19,
   "metadata": {},
   "outputs": [],
   "source": [
    "sql = '''\n",
    "SELECT DISTINCT maker, price\n",
    "FROM Product\n",
    "     INNER JOIN Printer ON Product.model = Printer.model\n",
    "WHERE price = (SELECT MIN(price) FROM Printer WHERE color LIKE 'y') AND color LIKE 'y'\n",
    "'''"
   ]
  },
  {
   "attachments": {},
   "cell_type": "markdown",
   "metadata": {},
   "source": [
    "<h2>Задание 19</h2>\n",
    "Для каждого производителя, имеющего модели в таблице Laptop, найдите средний размер экрана выпускаемых им ПК-блокнотов.\n",
    "Вывести: maker, средний размер экрана."
   ]
  },
  {
   "cell_type": "code",
   "execution_count": 20,
   "metadata": {},
   "outputs": [],
   "source": [
    "sql = '''\n",
    "SELECT maker, AVG(screen)\n",
    "FROM Product\n",
    "     INNER JOIN Laptop ON Product.model = Laptop.model\n",
    "GROUP BY maker\n",
    "'''"
   ]
  },
  {
   "attachments": {},
   "cell_type": "markdown",
   "metadata": {},
   "source": [
    "<h2>Задание 20</h2>\n",
    "Найдите производителей, выпускающих по меньшей мере три различных модели ПК. Вывести: Maker, число моделей ПК."
   ]
  },
  {
   "cell_type": "code",
   "execution_count": 21,
   "metadata": {},
   "outputs": [],
   "source": [
    "sql = '''\n",
    "SELECT maker as Maker, COUNT(DISTINCT Product.model) as Count_Model\n",
    "FROM Product\n",
    "WHERE type LIKE 'PC'\n",
    "GROUP BY maker\n",
    "HAVING COUNT(DISTINCT Product.model) >= 3\n",
    "'''"
   ]
  },
  {
   "attachments": {},
   "cell_type": "markdown",
   "metadata": {},
   "source": [
    "<h2>Задание 21</h2>\n",
    "Найдите максимальную цену ПК, выпускаемых каждым производителем, у которого есть модели в таблице PC.\n",
    "Вывести: maker, максимальная цена."
   ]
  },
  {
   "cell_type": "code",
   "execution_count": 22,
   "metadata": {},
   "outputs": [],
   "source": [
    "sql = '''\n",
    "SELECT maker, MAX(PC.price)\n",
    "FROM Product\n",
    "     INNER JOIN PC ON Product.model = PC.model\n",
    "GROUP BY maker\n",
    "'''"
   ]
  },
  {
   "attachments": {},
   "cell_type": "markdown",
   "metadata": {},
   "source": [
    "<h2>Задание 22</h2>\n",
    "Для каждого значения скорости ПК, превышающего 600 МГц, определите среднюю цену ПК с такой же скоростью. Вывести: speed, средняя цена."
   ]
  },
  {
   "cell_type": "code",
   "execution_count": 23,
   "metadata": {},
   "outputs": [],
   "source": [
    "sql = '''\n",
    "SELECT speed, AVG(price)\n",
    "FROM PC\n",
    "WHERE speed > 600\n",
    "GROUP BY speed\n",
    "'''"
   ]
  },
  {
   "attachments": {},
   "cell_type": "markdown",
   "metadata": {},
   "source": [
    "<h2>Задание 23</h2>\n",
    "Найдите производителей, которые производили бы как ПК\n",
    "со скоростью не менее 750 МГц, так и ПК-блокноты со скоростью не менее 750 МГц.\n",
    "Вывести: Maker"
   ]
  },
  {
   "cell_type": "code",
   "execution_count": 24,
   "metadata": {},
   "outputs": [],
   "source": [
    "sql = '''\n",
    "SELECT maker as Maker\n",
    "FROM Product\n",
    "WHERE model IN (SELECT model FROM PC WHERE speed >= 750)\n",
    "INTERSECT\n",
    "SELECT maker as Maker\n",
    "FROM Product\n",
    "WHERE model IN (SELECT model FROM Laptop WHERE speed >= 750)\n",
    "'''"
   ]
  },
  {
   "attachments": {},
   "cell_type": "markdown",
   "metadata": {},
   "source": [
    "<h2>Задание 24</h2>\n",
    "Перечислите номера моделей любых типов, имеющих самую высокую цену по всей имеющейся в базе данных продукции."
   ]
  },
  {
   "cell_type": "code",
   "execution_count": 25,
   "metadata": {},
   "outputs": [],
   "source": [
    "sql = '''\n",
    "select distinct model\n",
    "from\n",
    "  (select model, price\n",
    "  from pc\n",
    "  union all\n",
    "  select model, price\n",
    "  from laptop\n",
    "  union all\n",
    "  select model, price\n",
    "  from printer) as ag\n",
    "where ag.price=(select max(t.price)\n",
    "                  from\n",
    "                       (select model, price\n",
    "                        from pc\n",
    "                        union all\n",
    "                        select model, price\n",
    "                        from laptop\n",
    "                        union all\n",
    "                        select model, price\n",
    "                        from printer) as t)\n",
    "'''"
   ]
  },
  {
   "attachments": {},
   "cell_type": "markdown",
   "metadata": {},
   "source": [
    "<h2>Задание 25</h2>\n",
    "Найдите производителей принтеров, которые производят ПК с наименьшим объемом RAM и с самым быстрым процессором среди всех ПК, имеющих наименьший объем RAM. Вывести: Maker"
   ]
  },
  {
   "cell_type": "code",
   "execution_count": 26,
   "metadata": {},
   "outputs": [],
   "source": [
    "sql = '''\n",
    "SELECT DISTINCT Maker\n",
    "    FROM Product\n",
    "    WHERE Model IN (\n",
    "        SELECT Model\n",
    "            FROM Pc\n",
    "            WHERE Ram = (\n",
    "                SELECT min(Ram)\n",
    "                    FROM Pc\n",
    "            )\n",
    "              AND Speed = (\n",
    "                SELECT max(Speed)\n",
    "                    FROM Pc\n",
    "                    WHERE Ram = (\n",
    "                        SELECT min(Ram)\n",
    "                            FROM Pc\n",
    "                    )\n",
    "            )\n",
    "    )\n",
    "      AND Maker IN (\n",
    "        SELECT Maker\n",
    "            FROM Product\n",
    "            WHERE Type = 'printer'\n",
    "    )\n",
    "''' "
   ]
  },
  {
   "attachments": {},
   "cell_type": "markdown",
   "metadata": {},
   "source": [
    "<h2>Задание 26</h2>\n",
    "Найдите среднюю цену ПК и ПК-блокнотов, выпущенных производителем A (латинская буква). Вывести: одна общая средняя цена."
   ]
  },
  {
   "cell_type": "code",
   "execution_count": 27,
   "metadata": {},
   "outputs": [],
   "source": [
    "sql = '''\n",
    "with agg_data as\n",
    "(select t.maker, t.model,\n",
    "       ifnull(pc.price, l.price) as price\n",
    "from Product as t\n",
    "left join PC as pc on t.model=pc.model\n",
    "left join Laptop as l on t.model=l.model\n",
    "where t.maker like 'a')\n",
    "\n",
    "select avg(price) from agg_data\n",
    "'''"
   ]
  },
  {
   "attachments": {},
   "cell_type": "markdown",
   "metadata": {},
   "source": [
    "<h2>Задание 27</h2>\n",
    "Найдите средний размер диска ПК каждого из тех производителей, которые выпускают и принтеры. Вывести: maker, средний размер HD."
   ]
  },
  {
   "cell_type": "code",
   "execution_count": 28,
   "metadata": {},
   "outputs": [],
   "source": [
    "sql = '''\n",
    "select t.maker, avg(pc.hd) as Avg_hd\n",
    "from Product as t\n",
    "inner join PC as pc on t.model=pc.model\n",
    "where t.maker in (select distinct maker from Product where type like 'printer')\n",
    "group by t.maker\n",
    "'''"
   ]
  },
  {
   "attachments": {},
   "cell_type": "markdown",
   "metadata": {},
   "source": [
    "<h2>Задание 28</h2>\n",
    "Используя таблицу Product, определить количество производителей, выпускающих по одной модели."
   ]
  },
  {
   "cell_type": "code",
   "execution_count": 29,
   "metadata": {},
   "outputs": [],
   "source": [
    "sql = '''\n",
    "with count_maker as\n",
    "\n",
    "(select count(t.maker) as qty\n",
    "from Product as t\n",
    "group by t.maker\n",
    "having count(distinct t.model)=1)\n",
    "\n",
    "select count(qty) as qty\n",
    "from count_maker\n",
    "'''"
   ]
  },
  {
   "cell_type": "code",
   "execution_count": null,
   "metadata": {},
   "outputs": [],
   "source": []
  }
 ],
 "metadata": {
  "kernelspec": {
   "display_name": "Python 3",
   "language": "python",
   "name": "python3"
  },
  "language_info": {
   "codemirror_mode": {
    "name": "ipython",
    "version": 3
   },
   "file_extension": ".py",
   "mimetype": "text/x-python",
   "name": "python",
   "nbconvert_exporter": "python",
   "pygments_lexer": "ipython3",
   "version": "3.10.10"
  },
  "orig_nbformat": 4,
  "vscode": {
   "interpreter": {
    "hash": "c48b219e2b49a25484ffa4b5460c6c19f075ef78f56949977d12fcd86bed8fc9"
   }
  }
 },
 "nbformat": 4,
 "nbformat_minor": 2
}
